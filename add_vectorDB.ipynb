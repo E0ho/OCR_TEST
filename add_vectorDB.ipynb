{
 "cells": [
  {
   "cell_type": "markdown",
   "metadata": {},
   "source": [
    "# Reference VectorDB"
   ]
  },
  {
   "cell_type": "code",
   "execution_count": null,
   "metadata": {
    "vscode": {
     "languageId": "plaintext"
    }
   },
   "outputs": [],
   "source": [
    "%pip install -U langchain-community\n",
    "%pip install tiktoken\n",
    "%pip install chromadb"
   ]
  },
  {
   "cell_type": "code",
   "execution_count": null,
   "metadata": {
    "vscode": {
     "languageId": "plaintext"
    }
   },
   "outputs": [],
   "source": [
    "import pandas as pd\n",
    "from langchain.embeddings import OpenAIEmbeddings                       # Word Embedding\n",
    "from langchain.vectorstores import Chroma                               # Vector DB (Chroma DB)\n",
    "from langchain.schema import Document      # 문서 내 Text 추출\n",
    "\n",
    "df = pd.read_csv('./document_category.csv')\n",
    "\n",
    "content_li = df['Target'].tolist()\n",
    "category_li = [{'Category':text} for text in df['Category'].tolist()]"
   ]
  },
  {
   "cell_type": "code",
   "execution_count": null,
   "metadata": {
    "vscode": {
     "languageId": "plaintext"
    }
   },
   "outputs": [],
   "source": [
    "embeddings = OpenAIEmbeddings(model=\"text-embedding-ada-002\", openai_api_key=\"\")\n",
    "database = Chroma(persist_directory=\"./vector_db\", embedding_function = embeddings )\n",
    "\n",
    "# 각 행의 데이터를 Document 객체로 변환 \n",
    "documents = [Document(page_content = content_li[i], metadata = category_li[i]) for i in range(len(category_li))]\n",
    "\n",
    "# 데이터프레임에서 문서 추가\n",
    "database.add_documents(documents)"
   ]
  },
  {
   "cell_type": "code",
   "execution_count": null,
   "metadata": {
    "vscode": {
     "languageId": "plaintext"
    }
   },
   "outputs": [],
   "source": [
    "query_content = ''\n",
    "filter_conditions = {\"Category\": '전자지급 보증서'}\n",
    "\n",
    "# Chroma에서 filter와 query를 조합하여 검색\n",
    "results = database.similarity_search_with_score(\n",
    "    query_content, \n",
    "    filter = filter_conditions, \n",
    "    k = 3\n",
    ")\n",
    "\n",
    "results"
   ]
  }
 ],
 "metadata": {
  "language_info": {
   "name": "python"
  }
 },
 "nbformat": 4,
 "nbformat_minor": 2
}
